{
 "cells": [
  {
   "cell_type": "markdown",
   "metadata": {},
   "source": [
    "# Watershed Segmentation"
   ]
  },
  {
   "cell_type": "code",
   "execution_count": null,
   "metadata": {
    "collapsed": true
   },
   "outputs": [],
   "source": [
    "from scipy import ndimage as ndi\n",
    "from skimage.feature import peak_local_max\n",
    "from skimage.morphology import watershed\n",
    "from skimage.color import rgb2gray\n",
    " \n",
    "def watershed_segmentation_dist(labels,display=False):\n",
    "    \n",
    "    #performs watershed segmentation where the distance function is the distance to the edge of the label\n",
    "    \n",
    "    #labels: an array of numbers, 0 value for background and value i for the i^th label\n",
    "    #display: gives a picture of our outputs\n",
    "    \n",
    "    #returns: new labels for the image after being watershed segmented\n",
    "    \n",
    "    distance = ndi.distance_transform_edt(labels)\n",
    "    local_maxi = peak_local_max(distance, indices=False, labels=labels)\n",
    "    markers = ndi.label(local_maxi)[0]\n",
    "    labels = watershed(-distance, markers, mask=labels)\n",
    "    if display == True:\n",
    "        fig, axes = plt.subplots(ncols=3, figsize=(9, 3), sharex=True, sharey=True,\n",
    "                                 subplot_kw={'adjustable': 'box-forced'})\n",
    "        ax = axes.ravel()\n",
    "        ax[0].imshow(labels, cmap=plt.cm.gray, interpolation='nearest')\n",
    "        ax[0].set_title('Overlapping objects')\n",
    "        ax[1].imshow(-distance, cmap=plt.cm.gray, interpolation='nearest')\n",
    "        ax[1].set_title('Distances')\n",
    "        ax[2].imshow(labels, cmap=plt.cm.spectral, interpolation='nearest')\n",
    "        ax[2].set_title('Separated objects')\n",
    "        for a in ax:\n",
    "            a.set_axis_off()\n",
    "        fig.tight_layout()\n",
    "        plt.show()\n",
    "    return labels\n",
    "\n",
    "def watershed_segmentation_dark(image,labels,display=False):\n",
    "    \n",
    "    #performs watershed segmentation where the distance function is the lightness of the grayscale image\n",
    "    \n",
    "    #image: the image we have labels of (assumed to be inverted if cells are black and background white)\n",
    "    #labels: an array of numbers, 0 value for background and value i for the i^th label\n",
    "    #display: gives a picture of our outputs\n",
    "    \n",
    "    #returns: new labels for the image after being watershed segmented\n",
    "    \n",
    "    im_gray = rgb2gray(image)\n",
    "    local_maxi = peak_local_max(im_gray, indices=False, labels=labels)\n",
    "    markers = ndi.label(local_maxi)[0]\n",
    "    labels = watershed(-distance, markers, mask=labels)\n",
    "    if display == True:\n",
    "        fig, axes = plt.subplots(ncols=3, figsize=(9, 3), sharex=True, sharey=True,\n",
    "                                 subplot_kw={'adjustable': 'box-forced'})\n",
    "        ax = axes.ravel()\n",
    "        ax[0].imshow(labels, cmap=plt.cm.gray, interpolation='nearest')\n",
    "        ax[0].set_title('Overlapping objects')\n",
    "        ax[1].imshow(-distance, cmap=plt.cm.gray, interpolation='nearest')\n",
    "        ax[1].set_title('Distances')\n",
    "        ax[2].imshow(labels, cmap=plt.cm.spectral, interpolation='nearest')\n",
    "        ax[2].set_title('Separated objects')\n",
    "        for a in ax:\n",
    "            a.set_axis_off()\n",
    "        fig.tight_layout()\n",
    "        plt.show()\n",
    "    return labels"
   ]
  },
  {
   "cell_type": "markdown",
   "metadata": {},
   "source": [
    "# Histogram of Orientated Gradients"
   ]
  },
  {
   "cell_type": "code",
   "execution_count": null,
   "metadata": {
    "collapsed": true
   },
   "outputs": [],
   "source": [
    "import cv2\n",
    "from skimage.color import rgb2gray\n",
    "import numpy as np\n",
    "\n",
    "def HoG(img):\n",
    "    \n",
    "    #calculates the histogram of orientated gradients\n",
    "    \n",
    "    #image: the image we wish to calculated on\n",
    "    \n",
    "    #returns: the magnitude of the x and y gradients\n",
    "    \n",
    "    img = rgb2gray(img)\n",
    "    img = np.float32(img) / 255.0\n",
    " \n",
    "    # Calculate gradient \n",
    "    gx = cv2.Sobel(img, cv2.CV_32F, 1, 0, ksize=1)\n",
    "    gy = cv2.Sobel(img, cv2.CV_32F, 0, 1, ksize=1)\n",
    "\n",
    "    # Python Calculate gradient magnitude and direction (in degrees) \n",
    "    mag, angle = cv2.cartToPolar(gx, gy, angleInDegrees=True)\n",
    "    \n",
    "    return mag"
   ]
  },
  {
   "cell_type": "markdown",
   "metadata": {},
   "source": [
    "# k-means Clustering with Colours"
   ]
  },
  {
   "cell_type": "code",
   "execution_count": null,
   "metadata": {
    "collapsed": true
   },
   "outputs": [],
   "source": [
    "from sklearn.cluster import KMeans\n",
    "\n",
    "def kmeanscluster(image,k,merge=False):\n",
    "    \n",
    "    #Calculates the k means clustering of the colours in the image\n",
    "    \n",
    "    #img: the four channel image we wish to work with\n",
    "    #k: the k in k-means clustering\n",
    "    #merge: an optional argument which gives a merging of non-background clusters to get a mask\n",
    "    \n",
    "    #returns either the mask if we are merging, or the labels if we are not\n",
    "    \n",
    "    image = image[:,:,:3]\n",
    "    image_array = image.reshape((image.shape[0] * image.shape[1], 3))\n",
    "    # Clusters the pixels\n",
    "    clt = KMeans(n_clusters = k)\n",
    "    clt.fit(image_array)\n",
    "    labels = clt.labels_\n",
    "    if merge==True:\n",
    "        counts = np.bincount(labels)\n",
    "        labels = labels.reshape(image.shape[0],image.shape[1])\n",
    "        background = np.argmax(counts)\n",
    "        mask = np.where(labels != background, 1, 0)\n",
    "        return mask\n",
    "    else:\n",
    "        return labels"
   ]
  },
  {
   "cell_type": "markdown",
   "metadata": {},
   "source": [
    "# Image Channel Scaling"
   ]
  },
  {
   "cell_type": "code",
   "execution_count": null,
   "metadata": {
    "collapsed": true
   },
   "outputs": [],
   "source": [
    "#Reference: Johan Steunenberg\n",
    "\n",
    "IMG_CHANNELS = 3\n",
    "\n",
    "def scale_img_channels(img):\n",
    "    \n",
    "    #Scales the image channels linearly to use the entire range of 0 to 255\n",
    "    \n",
    "    #img: the 4 channel image we are rescaling\n",
    "    \n",
    "    #returns: the channel rescaled image\n",
    "    \n",
    "    for i in range(IMG_CHANNELS):\n",
    "        channel = img[:,:,i]\n",
    "        channel = channel - channel.min()\n",
    "        channelmax = channel.max()\n",
    "        if channelmax > 0:\n",
    "            factor = 255/channelmax\n",
    "            channel = (channel * factor).astype(int)\n",
    "        img[:,:,i] = channel\n",
    "    return img"
   ]
  }
 ],
 "metadata": {
  "kernelspec": {
   "display_name": "Python 2",
   "language": "python",
   "name": "python2"
  },
  "language_info": {
   "codemirror_mode": {
    "name": "ipython",
    "version": 2
   },
   "file_extension": ".py",
   "mimetype": "text/x-python",
   "name": "python",
   "nbconvert_exporter": "python",
   "pygments_lexer": "ipython2",
   "version": "2.7.14"
  }
 },
 "nbformat": 4,
 "nbformat_minor": 1
}
